{
 "cells": [
  {
   "cell_type": "markdown",
   "metadata": {},
   "source": [
    "# Exercise 1 - Using logical operators - and, or and not\n",
    "\n",
    "Get the ages of three persons Harry, Sally and Mary from the user. Check the below conditions and display the results\n",
    "\n",
    "    If Harry and Sally are both less than 20 years old, display the message saying \"Harry and Sally are less than 20 years old\"\n",
    "    If either Sally or Mary is older than 30, then display the message saying \"Either Sally or Mary is older than 30\"\n",
    "\n",
    "Remember that to do this you will need to use different variables to store the respective ages and then evaluate those ages using the if statement and logical operators.\n"
   ]
  },
  {
   "cell_type": "code",
   "execution_count": 1,
   "metadata": {},
   "outputs": [
    {
     "name": "stdout",
     "output_type": "stream",
     "text": [
      "Enter Harry's age: 78\n",
      "Enter Sally's age: 33\n",
      "Enter Mary's age: 9\n",
      "Either Sally or Mary is older than 30\n"
     ]
    }
   ],
   "source": [
    "Harry = input(\"Enter Harry's age: \")\n",
    "Sally = input(\"Enter Sally's age: \")\n",
    "Mary = input(\"Enter Mary's age: \")\n",
    "\n",
    "if Harry < 20 and Sally < 20 :\n",
    "    print \"Harry and Sally are less than 20 years old\"\n",
    "if Sally > 30 or Mary > 30:\n",
    "    print \"Either Sally or Mary is older than 30\"\n",
    "    "
   ]
  },
  {
   "cell_type": "markdown",
   "metadata": {},
   "source": [
    "# Exercise 2 - Find the length of a given string\n",
    "\n",
    "Ask the user to enter their first name. Compute the number of characters in the first name and print the result.\n",
    "\n",
    "Note that you will need to use the len function to obtain the number of characters in the string.\n"
   ]
  },
  {
   "cell_type": "code",
   "execution_count": 3,
   "metadata": {},
   "outputs": [
    {
     "name": "stdout",
     "output_type": "stream",
     "text": [
      "Enter your first name: Citlalin\n",
      "8\n"
     ]
    }
   ],
   "source": [
    "name = raw_input(\"Enter your first name: \")\n",
    "\n",
    "nameLen = len(name)\n",
    "\n",
    "print nameLen"
   ]
  },
  {
   "cell_type": "markdown",
   "metadata": {},
   "source": [
    "# Exercise 3 - Reversing a String\n",
    "\n",
    "Ask the user to enter the name of their favorite movie. Reverse the name of the movie and print it out.\n"
   ]
  },
  {
   "cell_type": "code",
   "execution_count": 10,
   "metadata": {},
   "outputs": [
    {
     "name": "stdout",
     "output_type": "stream",
     "text": [
      "Enter your favorite movie: Finding Nemo\n",
      "Reversed string:  omeN gnidniF\n"
     ]
    }
   ],
   "source": [
    "movie = raw_input(\"Enter your favorite movie: \")\n",
    "\n",
    "print \"Reversed string: \", movie[::-1]"
   ]
  },
  {
   "cell_type": "markdown",
   "metadata": {},
   "source": [
    "# Exercise 4 - Converting an input string to lower case and looking for a match\n",
    "\n",
    "Ask the user to enter a line of text and a search string. Convert the line of text that the user entered to lower case. Search the resulting text for the search string. Print \"Search String Found\" if the search string was found, otherwise, print \"Search String not found\"\n",
    "\n",
    "For example, the user could enter \"Jack and Jill went up the Hill\" and the search string \"jill\". You first need to convert the input string to lower case like so - \"jack and jill went up the hill\".\n",
    "\n",
    "Next you will need to look for the search string in the input string. You can use the \"if searchString in text\" form of query to determine if the text contains the search string. See week 3 classowork for an example\n"
   ]
  },
  {
   "cell_type": "code",
   "execution_count": 8,
   "metadata": {},
   "outputs": [
    {
     "name": "stdout",
     "output_type": "stream",
     "text": [
      "Enter a line of text: The Cat in the Hat\n",
      "Enter a search string: cat\n",
      "the cat in the hat\n",
      "Search String Found\n"
     ]
    }
   ],
   "source": [
    "text = raw_input(\"Enter a line of text: \")\n",
    "search = raw_input(\"Enter a search string: \")\n",
    "\n",
    "textLower = text.lower()\n",
    "\n",
    "print textLower\n",
    "\n",
    "if search in textLower:\n",
    "    print \"Search String Found\"\n",
    "elif textLower != search:\n",
    "    print \"Search String not found\"\n"
   ]
  },
  {
   "cell_type": "markdown",
   "metadata": {},
   "source": [
    "# Exercise 5 - Parsing a comma separated set of values\n",
    "\n",
    "Ask the user to type in a grocery list. Ensure that each item in the grocery list is separated by a comma. Use the split command to extract each token (item) in the grocery list. Print the last item in the list.\n",
    "\n",
    "For example, if the user enters \"milk,bananas,sugar,eggs,cheese\", you will need to read this into a variable, parse the contents using the split command and print \"cheese\"\n"
   ]
  },
  {
   "cell_type": "code",
   "execution_count": 14,
   "metadata": {},
   "outputs": [
    {
     "name": "stdout",
     "output_type": "stream",
     "text": [
      "Type in a grocery list separated by a comma: milk,ice,carrots,chocolate,fish\n",
      "Number of things in list:  5\n",
      "Last thing in the list:  ['fish']\n"
     ]
    }
   ],
   "source": [
    "groceryList = raw_input(\"Type in a grocery list separated by a comma: \")\n",
    "\n",
    "splitList = groceryList.split(\",\")\n",
    "\n",
    "#to get the very last object in the list\n",
    "last = len(splitList)\n",
    "\n",
    "print \"Number of things in list: \", last\n",
    "\n",
    "print \"Last thing in the list: \", splitList[::-last]\n"
   ]
  },
  {
   "cell_type": "markdown",
   "metadata": {
    "collapsed": true
   },
   "source": [
    "# Exercise 6\n",
    "\n",
    "Ask the user to type in a grocery list and a search item. Ensure that each item in the grocery list is separated by a comma and an arbitrary number of spaces. Use the split command to search for the search item in this list.\n",
    "\n",
    "For example, let us say that the user enters \"\"milk , bananas, sugar, eggs, cheese \" (notice the arbitrary spaces between items) and the search term is \"eggs\". You will need to look for \"eggs\" in the grocery list and if found, print the message \"Item found\", otherwise, print \"Item not found\"\n"
   ]
  },
  {
   "cell_type": "code",
   "execution_count": 27,
   "metadata": {},
   "outputs": [
    {
     "name": "stdout",
     "output_type": "stream",
     "text": [
      "Enter in a grocery list: Lettuce, Carrot,Cake, Chocolate\n",
      "Enter a search item: Carrot\n",
      "Item Found\n"
     ]
    }
   ],
   "source": [
    "groceryList = raw_input(\"Enter in a grocery list: \")\n",
    "item = raw_input(\"Enter a search item: \")\n",
    "\n",
    "stripList = groceryList.replace(\" \", \"\")\n",
    "splitList = stripList.split(\",\")\n",
    "\n",
    "if item in splitList:\n",
    "    print \"Item Found\"\n",
    "else:\n",
    "    print \"Item NOT found\"\n"
   ]
  },
  {
   "cell_type": "code",
   "execution_count": null,
   "metadata": {
    "collapsed": true
   },
   "outputs": [],
   "source": []
  }
 ],
 "metadata": {
  "kernelspec": {
   "display_name": "Python 2",
   "language": "python",
   "name": "python2"
  },
  "language_info": {
   "codemirror_mode": {
    "name": "ipython",
    "version": 2
   },
   "file_extension": ".py",
   "mimetype": "text/x-python",
   "name": "python",
   "nbconvert_exporter": "python",
   "pygments_lexer": "ipython2",
   "version": "2.7.13"
  }
 },
 "nbformat": 4,
 "nbformat_minor": 2
}
