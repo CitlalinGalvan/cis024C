{
 "cells": [
  {
   "cell_type": "markdown",
   "metadata": {},
   "source": [
    "# Exercise 1 - Testing your knowledge of files\n",
    "Answer the below questions\n",
    "\n",
    "In your own words, describe what a file is?\n",
    "         \n",
    "      A file is data stored inside a computer, that can \n",
    "      contain important information such as programing for a \n",
    "      video game, applicatons, or a file can be a \n",
    "      written document. \n",
    "      In python it is binary files that can only be read using \n",
    "      a binary application that can uderstand binary language. \n",
    "      The other form is text files, that are just words \n",
    "      filling up a file.\n",
    "           \n",
    "Why is it important to close a file after we are done using it?\n",
    "    \n",
    "    It is important to close the file, because it will then \n",
    "    set them free, so the system can store then back to \n",
    "    another place."
   ]
  },
  {
   "cell_type": "markdown",
   "metadata": {},
   "source": [
    "# Exercise 2 - Write to a file\n",
    "Write a python program to write the below lines to a file\n",
    "\n",
    "    Name, Age, Gender, Profession\n",
    "    Harry, 23, Male, Software Engineer\n",
    "    Sam, 25, Male, Lawyer\n",
    "    Lisa, 29, Female, Computer Scientist\n",
    "    Mary, 22, Female, Doctor\n",
    "\n",
    "Below are a set of recommended steps to accomplish this\n",
    "    \n",
    "    1.open a file in write mode. This will return a handle to the file\n",
    "    2.use the write method to write each line to the file using the file handle returned in the open call\n",
    "    3.close the file when done\n",
    "    \n",
    "Once done, go to the folder where the file is and open it to make sure that this is written."
   ]
  },
  {
   "cell_type": "code",
   "execution_count": 5,
   "metadata": {
    "collapsed": true
   },
   "outputs": [],
   "source": [
    "peopleFile = open(\"peopleFile.txt\",\"w\")\n",
    "\n",
    "peopleFile.write(\"Name, Age, Gender, Profession\\n\")\n",
    "peopleFile.write(\"Harry, 23, Male, Software Engineer\\n\")\n",
    "peopleFile.write(\"Sam, 25, Male, Lawyer\\n\")\n",
    "peopleFile.write(\"Lisa, 29, Female, Computer Scientist\\n\")\n",
    "peopleFile.write(\"Mary, 22, Female, Doctor\\n\")\n",
    "\n",
    "peopleFile.close()"
   ]
  },
  {
   "cell_type": "markdown",
   "metadata": {},
   "source": [
    "# Exercise 3 - Reading from a file\n",
    "\n",
    "Read and display the data from the file you had just written to.\n",
    "\n",
    "Below are a set of recommended steps to accomplish this\n",
    "\n",
    "    1.open the file in read mode. This will return a handle to the file.\n",
    "    2.You can now iterate through each line in the file and then use readline to read each line.\n",
    "    3.Display each line as you read it in"
   ]
  },
  {
   "cell_type": "code",
   "execution_count": 6,
   "metadata": {},
   "outputs": [
    {
     "name": "stdout",
     "output_type": "stream",
     "text": [
      "Name, Age, Gender, Profession\n",
      "Harry, 23, Male, Software Engineer\n",
      "Sam, 25, Male, Lawyer\n",
      "Lisa, 29, Female, Computer Scientist\n",
      "Mary, 22, Female, Doctor\n",
      "\n"
     ]
    }
   ],
   "source": [
    "readFile = open(\"peopleFile.txt\")\n",
    "print readFile.read()\n",
    "\n",
    "readFile.close()"
   ]
  },
  {
   "cell_type": "markdown",
   "metadata": {},
   "source": [
    "# Exercise 4 - Finding the average age of users in a file\n",
    "\n",
    "Write a python program to find the average age of users in the file you just created.\n",
    "\n",
    "Below are a set of recommended steps to accomplish this\n",
    "\n",
    "    1.Open the file in read mode\n",
    "    2.Read in each line of the file\n",
    "    3.Split each line in the file to get the age\n",
    "    4.Find the average age and display it"
   ]
  },
  {
   "cell_type": "code",
   "execution_count": 7,
   "metadata": {},
   "outputs": [
    {
     "name": "stdout",
     "output_type": "stream",
     "text": [
      "Name, Age, Gender, Profession\r\n",
      "Harry, 23, Male, Software Engineer\r\n",
      "Sam, 25, Male, Lawyer\r\n",
      "Lisa, 29, Female, Computer Scientist\r\n",
      "Mary, 22, Female, Doctor\r\n"
     ]
    }
   ],
   "source": [
    "!cat peopleFile.txt"
   ]
  },
  {
   "cell_type": "code",
   "execution_count": 18,
   "metadata": {},
   "outputs": [
    {
     "name": "stdout",
     "output_type": "stream",
     "text": [
      "Average Age:  24\n"
     ]
    }
   ],
   "source": [
    "peopleFiles = open(\"peopleFile.txt\")\n",
    "\n",
    "#skip the first line\n",
    "line = peopleFiles.readline()\n",
    "totalAge = 0\n",
    "count = 0\n",
    "\n",
    "for line in peopleFiles:\n",
    "    \n",
    "    peopleLines = line.split(\", \")\n",
    "    \n",
    "        \n",
    "    #print peopleLines\n",
    "    \n",
    "    ages = peopleLines[len(peopleLines)-3]\n",
    "    \n",
    "    count += 1\n",
    "    IntAges = int(ages)\n",
    "    totalAge += IntAges\n",
    "    \n",
    "if ages.isdigit():\n",
    "    averageAge = totalAge/count\n",
    "\n",
    "\n",
    "    print \"Average Age: \", averageAge\n",
    "    \n",
    "    \n",
    "peopleFiles.close()"
   ]
  },
  {
   "cell_type": "markdown",
   "metadata": {},
   "source": [
    "# Exercise 5 - Appending to a file\n",
    "\n",
    "Write a python program to append information provided by users to an existing file.\n",
    "You will need to:\n",
    "\n",
    "    1.ask the user to enter their name, age, gender and profession using the raw_input method (for Python 3 users, you will use the input method).\n",
    "    2.open the file you just created in the above exercies in append mode and write this information to the file.\n",
    "\n",
    "Remember to make sure that the information you append is entered in the same format where each field is separated by commas."
   ]
  },
  {
   "cell_type": "code",
   "execution_count": 20,
   "metadata": {},
   "outputs": [
    {
     "name": "stdout",
     "output_type": "stream",
     "text": [
      "Enter your First Name: Citlalin\n",
      "Enter your Age: 20\n",
      "Enter your Gender: Female\n",
      "Enter your Profesion: Student\n"
     ]
    }
   ],
   "source": [
    "peopleFile = open(\"peopleFile.txt\",\"a\")\n",
    "\n",
    "name = raw_input(\"Enter your First Name: \")\n",
    "age = raw_input(\"Enter your Age: \")\n",
    "gender = raw_input(\"Enter your Gender: \")\n",
    "profession = raw_input(\"Enter your Profesion: \")\n",
    "\n",
    "newLine = \", \".join([name,age,gender,profession])\n",
    "\n",
    "peopleFile.write(newLine)\n",
    "\n",
    "peopleFile.close()"
   ]
  },
  {
   "cell_type": "code",
   "execution_count": 23,
   "metadata": {},
   "outputs": [
    {
     "name": "stdout",
     "output_type": "stream",
     "text": [
      "Name, Age, Gender, Profession\n",
      "Harry, 23, Male, Software Engineer\n",
      "Sam, 25, Male, Lawyer\n",
      "Lisa, 29, Female, Computer Scientist\n",
      "Mary, 22, Female, Doctor\n",
      "Citlalin, 20, Female, Student\n"
     ]
    }
   ],
   "source": [
    "peopleFile = open(\"peopleFile.txt\")\n",
    "\n",
    "print peopleFile.read()\n",
    "\n",
    "peopleFile.close()"
   ]
  },
  {
   "cell_type": "code",
   "execution_count": null,
   "metadata": {
    "collapsed": true
   },
   "outputs": [],
   "source": []
  }
 ],
 "metadata": {
  "kernelspec": {
   "display_name": "Python 2",
   "language": "python",
   "name": "python2"
  }
 },
 "nbformat": 4,
 "nbformat_minor": 2
}
