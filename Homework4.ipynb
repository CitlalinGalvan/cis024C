{
 "cells": [
  {
   "cell_type": "markdown",
   "metadata": {},
   "source": [
    "# Exercise 1 - Testing your knowledge of lists, tuples and dictionaries\n",
    "Answer the below questions\n",
    "\n",
    "What is the main difference between a list and a tuple?\n",
    "\n",
    "    In a list, there is more freeedom to manipulate the list \n",
    "    around, while a tuple is a list that is not going to change, \n",
    "    very limmited manipulation.\n",
    "    \n",
    "How does a dictionary object differ from a list.\n",
    "    \n",
    "        A list only accepts one intput value, while a dictionary \n",
    "        is a key value list, meaning you can look up values using the \n",
    "        key."
   ]
  },
  {
   "cell_type": "markdown",
   "metadata": {
    "collapsed": true
   },
   "source": [
    "# Exercise 2 - Initializing a list, tuple and dictionary\n",
    "\n",
    "1.Create a list object with a set of any 10 numbers. Print the result\n",
    "\n",
    "2.Create a tuple object with a set of 10 numbers. Print the result\n",
    "\n",
    "3.Create a dictionary object with a set of 10 numbers. Print the result"
   ]
  },
  {
   "cell_type": "code",
   "execution_count": 2,
   "metadata": {},
   "outputs": [
    {
     "name": "stdout",
     "output_type": "stream",
     "text": [
      "LIST:  [1, 2, 3, 4, 5, 6, 7, 8, 9, 10]\n",
      "TUPLE:  (11, 22, 33, 44, 55, 66, 77, 88, 99, 1010)\n",
      "Dictionary:  {1: 111, 2: 222, 3: 333, 4: 444, 5: 555, 6: 666, 7: 777, 8: 888, 9: 999, 10: 100}\n"
     ]
    }
   ],
   "source": [
    "objectList = [1,2,3,4,5,6,7,8,9,10]\n",
    "\n",
    "objectTuple = tuple([11,22,33,44,55,66,77,88,99,1010])\n",
    "\n",
    "objectDictionary = {1:111, 2:222, 3:333, 4:444, 5:555, 6:666, 7:777, 8:888, 9:999, 10:100}\n",
    "\n",
    "print \"LIST: \", objectList\n",
    "print \"TUPLE: \", objectTuple\n",
    "print \"Dictionary: \", objectDictionary\n"
   ]
  },
  {
   "cell_type": "markdown",
   "metadata": {},
   "source": [
    "# Exercise 3 - Displaying values in a list object\n",
    "\n",
    "Create a list object with 10 arbitrary numbers. Use a for loop to display every other element."
   ]
  },
  {
   "cell_type": "code",
   "execution_count": 38,
   "metadata": {},
   "outputs": [
    {
     "name": "stdout",
     "output_type": "stream",
     "text": [
      "1\n",
      "3\n",
      "5\n",
      "7\n",
      "9\n"
     ]
    }
   ],
   "source": [
    "arbitraryNum = [1,22,3,44,5,66,7,88,9,100]\n",
    "\n",
    "for i in range(len(arbitraryNum)):\n",
    "    if i%2 == 0:\n",
    "        print arbitraryNum[i]"
   ]
  },
  {
   "cell_type": "markdown",
   "metadata": {},
   "source": [
    "# Exercise 4 - Sorting a list of strings\n",
    "\n",
    "Ask the user to enter a list of names. Sort the names in ascending order."
   ]
  },
  {
   "cell_type": "code",
   "execution_count": 44,
   "metadata": {},
   "outputs": [
    {
     "name": "stdout",
     "output_type": "stream",
     "text": [
      "Enter a list of names separated by a coma: Perry, Simba, Cit, Yolotzin\n",
      "Accending order:  ['Cit', 'Perry', 'Simba', 'Yolotzin']\n"
     ]
    }
   ],
   "source": [
    "names = raw_input(\"Enter a list of names separated by a coma: \")\n",
    "result = []\n",
    "\n",
    "namesList = names.split(\", \")\n",
    "\n",
    "for x in range(len(namesList)):\n",
    "    smallest = min(namesList)\n",
    "    result.append(smallest)\n",
    "    namesList.remove(smallest)\n",
    "    \n",
    "print \"Accending order: \", result"
   ]
  },
  {
   "cell_type": "markdown",
   "metadata": {},
   "source": [
    "# Exercise 5 - Accessing values in a dictionary object\n",
    "Initialize a dictionary object with the below key, value pairs\n",
    "\n",
    "    Key Value\n",
    "    1\tHarry\n",
    "    2\tSally\n",
    "    3\tJoe\n",
    "    4\tMathew\n",
    "\n",
    "Ask the user to enter a key between 1 and 4.\n",
    "Display the corresponding value in the dictionary"
   ]
  },
  {
   "cell_type": "code",
   "execution_count": 46,
   "metadata": {},
   "outputs": [
    {
     "name": "stdout",
     "output_type": "stream",
     "text": [
      "Enter a key: 3\n",
      "Joe\n"
     ]
    }
   ],
   "source": [
    "dictionaryName = {1:'Harry', 2:'Sally', 3:'Joe', 4:'Mathew'}\n",
    "\n",
    "key = input(\"Enter a key: \")\n",
    "\n",
    "print dictionaryName[key]\n"
   ]
  },
  {
   "cell_type": "code",
   "execution_count": null,
   "metadata": {
    "collapsed": true
   },
   "outputs": [],
   "source": []
  }
 ],
 "metadata": {
  "kernelspec": {
   "display_name": "Python 2",
   "language": "python",
   "name": "python2"
  },
  "language_info": {
   "codemirror_mode": {
    "name": "ipython",
    "version": 2
   },
   "file_extension": ".py",
   "mimetype": "text/x-python",
   "name": "python",
   "nbconvert_exporter": "python",
   "pygments_lexer": "ipython2",
   "version": "2.7.13"
  }
 },
 "nbformat": 4,
 "nbformat_minor": 2
}
