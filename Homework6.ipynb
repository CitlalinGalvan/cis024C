{
 "cells": [
  {
   "cell_type": "code",
   "execution_count": 1,
   "metadata": {},
   "outputs": [
    {
     "name": "stdout",
     "output_type": "stream",
     "text": [
      "Python 2.7.13 :: Anaconda 4.4.0 (x86_64)\r\n"
     ]
    }
   ],
   "source": [
    "!python --version\n"
   ]
  },
  {
   "cell_type": "markdown",
   "metadata": {},
   "source": [
    "# Exercise 1 - Testing your knowledge of functions\n",
    "Answer the below questions\n",
    "\n",
    "1.What is a function in Python?\n",
    "\n",
    "    HI\n",
    "2.What are the advantages of using functions?\n",
    "\n",
    "    XSJ"
   ]
  },
  {
   "cell_type": "markdown",
   "metadata": {},
   "source": [
    "# Exercise 2 - Max of three numbers\n",
    "Write a Python function to find the Max of three numbers.\n",
    "Make sure you invoke this function in your main program and display the result"
   ]
  },
  {
   "cell_type": "code",
   "execution_count": 3,
   "metadata": {},
   "outputs": [
    {
     "name": "stdout",
     "output_type": "stream",
     "text": [
      "MAX:  22\n",
      "MAX:  98\n"
     ]
    }
   ],
   "source": [
    "def maximum(x,y,z):\n",
    "    if x > y and x > z:\n",
    "        return x\n",
    "    elif y > x and y > z:\n",
    "        return y\n",
    "    elif z > x and z > y:\n",
    "        return z\n",
    "    \n",
    "\n",
    "print \"MAX: \",maximum(4,5,22)\n",
    "print \"MAX: \",maximum(88,98,34)"
   ]
  },
  {
   "cell_type": "markdown",
   "metadata": {},
   "source": [
    "# Exercise 3 - Finding the sum of numbers in a list\n",
    "Write a Python function to sum all the numbers in a list\n",
    "Make sure you invoke this function in your main program and display the result"
   ]
  },
  {
   "cell_type": "code",
   "execution_count": 5,
   "metadata": {},
   "outputs": [
    {
     "name": "stdout",
     "output_type": "stream",
     "text": [
      "131\n"
     ]
    }
   ],
   "source": [
    "myList = [33,5,77,12,4]\n",
    "\n",
    "def adding(x):\n",
    "    numSum = 0\n",
    "    \n",
    "    for i in range(len(x)):\n",
    "        numSum = numSum + x[i]\n",
    "    return numSum\n",
    "\n",
    "print adding(myList)"
   ]
  },
  {
   "cell_type": "markdown",
   "metadata": {},
   "source": [
    "# Exercise 4 - Finding the product of numbers in a list\n",
    "Write a Python function to multiply all the numbers in a list\n",
    "Make sure you invoke this function in your main program and display the result"
   ]
  },
  {
   "cell_type": "code",
   "execution_count": 6,
   "metadata": {},
   "outputs": [
    {
     "name": "stdout",
     "output_type": "stream",
     "text": [
      "120\n"
     ]
    }
   ],
   "source": [
    "def mult(x):\n",
    "    product = 1\n",
    "    \n",
    "    for i in range(len(x)):\n",
    "        product = product * x[i]\n",
    "        \n",
    "    return product\n",
    "\n",
    "\n",
    "anotherList = [1,2,3,4,5]\n",
    "print mult(anotherList)"
   ]
  },
  {
   "cell_type": "markdown",
   "metadata": {},
   "source": [
    "# Exercise 5 - Reversing a String\n",
    "Write a Python function to reverse a string\n",
    "Make sure you invoke this function in your main program and display the result"
   ]
  },
  {
   "cell_type": "code",
   "execution_count": 10,
   "metadata": {},
   "outputs": [
    {
     "name": "stdout",
     "output_type": "stream",
     "text": [
      "nilaltiC mA I olleH\n"
     ]
    }
   ],
   "source": [
    "def reverse(x):\n",
    "    return x[::-1]\n",
    "        \n",
    "        \n",
    "print reverse('Hello I Am Citlalin')"
   ]
  },
  {
   "cell_type": "markdown",
   "metadata": {},
   "source": [
    "# Exercise 6\n",
    "Write a Python function that accepts a string and calculate the number of upper case letters and lower case letters.\n",
    "Make sure you invoke this function in your main program and display the result"
   ]
  },
  {
   "cell_type": "code",
   "execution_count": 12,
   "metadata": {},
   "outputs": [
    {
     "name": "stdout",
     "output_type": "stream",
     "text": [
      "Enter some string: Hello I AM CitlaliN\n",
      "(Upper Case, Lower Case)\n",
      "(6, 10)\n"
     ]
    }
   ],
   "source": [
    "def countCases(x):\n",
    "    upperCase = 0\n",
    "    lowerCase = 0\n",
    "    for i in range(len(x)):\n",
    "        if x[i].islower() == True:\n",
    "            lowerCase += 1\n",
    "        elif x[i].isupper() == True:\n",
    "            upperCase +=1\n",
    "            \n",
    "    return upperCase, lowerCase \n",
    "\n",
    "someString = raw_input(\"Enter some string: \")\n",
    "\n",
    "print '(Upper Case, Lower Case)'\n",
    "print countCases(someString)"
   ]
  },
  {
   "cell_type": "code",
   "execution_count": null,
   "metadata": {
    "collapsed": true
   },
   "outputs": [],
   "source": []
  }
 ],
 "metadata": {
  "kernelspec": {
   "display_name": "Python 2",
   "language": "python",
   "name": "python2"
  },
  "language_info": {
   "codemirror_mode": {
    "name": "ipython",
    "version": 2
   },
   "file_extension": ".py",
   "mimetype": "text/x-python",
   "name": "python",
   "nbconvert_exporter": "python",
   "pygments_lexer": "ipython2",
   "version": "2.7.13"
  }
 },
 "nbformat": 4,
 "nbformat_minor": 2
}
